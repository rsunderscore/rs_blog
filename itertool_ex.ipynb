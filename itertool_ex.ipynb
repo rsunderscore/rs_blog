{
 "cells": [
  {
   "cell_type": "markdown",
   "metadata": {},
   "source": [
    "# a notebook"
   ]
  },
  {
   "cell_type": "code",
   "execution_count": 3,
   "metadata": {},
   "outputs": [],
   "source": [
    "import itertools as i"
   ]
  },
  {
   "cell_type": "code",
   "execution_count": 7,
   "metadata": {},
   "outputs": [
    {
     "data": {
      "text/plain": [
       "['__doc__',\n",
       " '__loader__',\n",
       " '__name__',\n",
       " '__package__',\n",
       " '__spec__',\n",
       " '_grouper',\n",
       " '_tee',\n",
       " '_tee_dataobject',\n",
       " 'accumulate',\n",
       " 'chain',\n",
       " 'combinations',\n",
       " 'combinations_with_replacement',\n",
       " 'compress',\n",
       " 'count',\n",
       " 'cycle',\n",
       " 'dropwhile',\n",
       " 'filterfalse',\n",
       " 'groupby',\n",
       " 'islice',\n",
       " 'permutations',\n",
       " 'product',\n",
       " 'repeat',\n",
       " 'starmap',\n",
       " 'takewhile',\n",
       " 'tee',\n",
       " 'zip_longest']"
      ]
     },
     "execution_count": 7,
     "metadata": {},
     "output_type": "execute_result"
    }
   ],
   "source": [
    "dir(i)"
   ]
  },
  {
   "cell_type": "code",
   "execution_count": 5,
   "metadata": {},
   "outputs": [],
   "source": [
    "import more_itertools as mi"
   ]
  },
  {
   "cell_type": "code",
   "execution_count": 6,
   "metadata": {},
   "outputs": [
    {
     "data": {
      "text/plain": [
       "['AbortThread',\n",
       " 'SequenceView',\n",
       " 'UnequalIterablesError',\n",
       " '__builtins__',\n",
       " '__cached__',\n",
       " '__doc__',\n",
       " '__file__',\n",
       " '__loader__',\n",
       " '__name__',\n",
       " '__package__',\n",
       " '__path__',\n",
       " '__spec__',\n",
       " '__version__',\n",
       " 'adjacent',\n",
       " 'all_equal',\n",
       " 'all_unique',\n",
       " 'always_iterable',\n",
       " 'always_reversible',\n",
       " 'bucket',\n",
       " 'callback_iter',\n",
       " 'chunked',\n",
       " 'chunked_even',\n",
       " 'circular_shifts',\n",
       " 'collapse',\n",
       " 'collate',\n",
       " 'combination_index',\n",
       " 'consecutive_groups',\n",
       " 'consume',\n",
       " 'consumer',\n",
       " 'convolve',\n",
       " 'count_cycle',\n",
       " 'countable',\n",
       " 'difference',\n",
       " 'distinct_combinations',\n",
       " 'distinct_permutations',\n",
       " 'distribute',\n",
       " 'divide',\n",
       " 'dotproduct',\n",
       " 'exactly_n',\n",
       " 'filter_except',\n",
       " 'first',\n",
       " 'first_true',\n",
       " 'flatten',\n",
       " 'groupby_transform',\n",
       " 'grouper',\n",
       " 'ichunked',\n",
       " 'ilen',\n",
       " 'interleave',\n",
       " 'interleave_evenly',\n",
       " 'interleave_longest',\n",
       " 'intersperse',\n",
       " 'is_sorted',\n",
       " 'islice_extended',\n",
       " 'iter_except',\n",
       " 'iterate',\n",
       " 'last',\n",
       " 'locate',\n",
       " 'lstrip',\n",
       " 'make_decorator',\n",
       " 'map_except',\n",
       " 'map_if',\n",
       " 'map_reduce',\n",
       " 'mark_ends',\n",
       " 'more',\n",
       " 'ncycles',\n",
       " 'nth',\n",
       " 'nth_combination',\n",
       " 'nth_or_last',\n",
       " 'nth_permutation',\n",
       " 'nth_product',\n",
       " 'numeric_range',\n",
       " 'one',\n",
       " 'only',\n",
       " 'pad_none',\n",
       " 'padded',\n",
       " 'padnone',\n",
       " 'pairwise',\n",
       " 'partition',\n",
       " 'partitions',\n",
       " 'peekable',\n",
       " 'permutation_index',\n",
       " 'powerset',\n",
       " 'prepend',\n",
       " 'product_index',\n",
       " 'quantify',\n",
       " 'random_combination',\n",
       " 'random_combination_with_replacement',\n",
       " 'random_permutation',\n",
       " 'random_product',\n",
       " 'recipes',\n",
       " 'repeat_each',\n",
       " 'repeat_last',\n",
       " 'repeatfunc',\n",
       " 'replace',\n",
       " 'rlocate',\n",
       " 'roundrobin',\n",
       " 'rstrip',\n",
       " 'run_length',\n",
       " 'sample',\n",
       " 'seekable',\n",
       " 'set_partitions',\n",
       " 'side_effect',\n",
       " 'sliced',\n",
       " 'sort_together',\n",
       " 'split_after',\n",
       " 'split_at',\n",
       " 'split_before',\n",
       " 'split_into',\n",
       " 'split_when',\n",
       " 'spy',\n",
       " 'stagger',\n",
       " 'strip',\n",
       " 'substrings',\n",
       " 'substrings_indexes',\n",
       " 'tabulate',\n",
       " 'tail',\n",
       " 'take',\n",
       " 'time_limited',\n",
       " 'unique_everseen',\n",
       " 'unique_justseen',\n",
       " 'unique_to_each',\n",
       " 'unzip',\n",
       " 'value_chain',\n",
       " 'windowed',\n",
       " 'windowed_complete',\n",
       " 'with_iter',\n",
       " 'zip_broadcast',\n",
       " 'zip_equal',\n",
       " 'zip_offset']"
      ]
     },
     "execution_count": 6,
     "metadata": {},
     "output_type": "execute_result"
    }
   ],
   "source": [
    "dir(mi)"
   ]
  },
  {
   "cell_type": "code",
   "execution_count": null,
   "metadata": {},
   "outputs": [],
   "source": []
  }
 ],
 "metadata": {
  "kernelspec": {
   "display_name": "Python 3",
   "language": "python",
   "name": "python3"
  },
  "language_info": {
   "codemirror_mode": {
    "name": "ipython",
    "version": 3
   },
   "file_extension": ".py",
   "mimetype": "text/x-python",
   "name": "python",
   "nbconvert_exporter": "python",
   "pygments_lexer": "ipython3",
   "version": "3.8.5"
  }
 },
 "nbformat": 4,
 "nbformat_minor": 4
}
