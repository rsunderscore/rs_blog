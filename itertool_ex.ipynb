{
 "cells": [
  {
   "cell_type": "markdown",
   "metadata": {},
   "source": [
    "# a notebook"
   ]
  },
  {
   "cell_type": "code",
   "execution_count": 51,
   "metadata": {},
   "outputs": [],
   "source": [
    "myset = {1,2,3,27,39}\n",
    "mytuple = ('t1', 2, 't3')\n",
    "mylist = [1,2,3,4,5,'Main St']\n",
    "mynested = [(1,2,3), ['one', 'two', 'three'], 'train', 3.45, {99, 199, 299}]"
   ]
  },
  {
   "cell_type": "code",
   "execution_count": 3,
   "metadata": {},
   "outputs": [],
   "source": [
    "import itertools as i"
   ]
  },
  {
   "cell_type": "code",
   "execution_count": 7,
   "metadata": {},
   "outputs": [
    {
     "data": {
      "text/plain": [
       "['__doc__',\n",
       " '__loader__',\n",
       " '__name__',\n",
       " '__package__',\n",
       " '__spec__',\n",
       " '_grouper',\n",
       " '_tee',\n",
       " '_tee_dataobject',\n",
       " 'accumulate',\n",
       " 'chain',\n",
       " 'combinations',\n",
       " 'combinations_with_replacement',\n",
       " 'compress',\n",
       " 'count',\n",
       " 'cycle',\n",
       " 'dropwhile',\n",
       " 'filterfalse',\n",
       " 'groupby',\n",
       " 'islice',\n",
       " 'permutations',\n",
       " 'product',\n",
       " 'repeat',\n",
       " 'starmap',\n",
       " 'takewhile',\n",
       " 'tee',\n",
       " 'zip_longest']"
      ]
     },
     "execution_count": 7,
     "metadata": {},
     "output_type": "execute_result"
    }
   ],
   "source": [
    "dir(i)"
   ]
  },
  {
   "cell_type": "markdown",
   "metadata": {},
   "source": [
    " 'accumulate'"
   ]
  },
  {
   "cell_type": "markdown",
   "metadata": {},
   "source": [
    "### chain(*args)\n",
    "chain lets you step through multiple iterables as if they were one.  You could loop through multiple lists or sets without having to combine them first.  Memory savings?"
   ]
  },
  {
   "cell_type": "code",
   "execution_count": 45,
   "metadata": {},
   "outputs": [],
   "source": [
    "i.chain?"
   ]
  },
  {
   "cell_type": "code",
   "execution_count": 55,
   "metadata": {},
   "outputs": [
    {
     "name": "stdout",
     "output_type": "stream",
     "text": [
      "1\n",
      "2\n",
      "3\n",
      "4\n",
      "5\n",
      "Main St\n",
      "(1, 2, 3)\n",
      "['one', 'two', 'three']\n",
      "train\n",
      "3.45\n",
      "{299, 99, 199}\n",
      "t1\n",
      "2\n",
      "t3\n"
     ]
    }
   ],
   "source": [
    "for x in i.chain(mylist, mynested, mytuple):\n",
    "    print(x)"
   ]
  },
  {
   "cell_type": "markdown",
   "metadata": {},
   "source": [
    "### combinations\n",
    "combinations are the set of unique groups of elements if order is not important: having a giraffe, gorilla, and hippo is the same as having a hippo, giraffe, and a gorilla.  If order is important then you want permutations instead.  "
   ]
  },
  {
   "cell_type": "code",
   "execution_count": 56,
   "metadata": {},
   "outputs": [],
   "source": [
    "i.combinations?"
   ]
  },
  {
   "cell_type": "code",
   "execution_count": 65,
   "metadata": {},
   "outputs": [
    {
     "data": {
      "text/plain": [
       "(1, 2)"
      ]
     },
     "execution_count": 65,
     "metadata": {},
     "output_type": "execute_result"
    }
   ],
   "source": [
    "c = i.combinations(mylist,2)\n",
    "next(c)"
   ]
  },
  {
   "cell_type": "code",
   "execution_count": 67,
   "metadata": {},
   "outputs": [
    {
     "name": "stdout",
     "output_type": "stream",
     "text": [
      "(1, 4)\n",
      "(1, 5)\n",
      "(1, 'Main St')\n",
      "(2, 3)\n",
      "(2, 4)\n",
      "(2, 5)\n",
      "(2, 'Main St')\n",
      "(3, 4)\n",
      "(3, 5)\n",
      "(3, 'Main St')\n",
      "(4, 5)\n",
      "(4, 'Main St')\n",
      "(5, 'Main St')\n",
      "end of items\n"
     ]
    }
   ],
   "source": [
    "try:\n",
    "    while True:\n",
    "        print(next(c))\n",
    "except StopIteration:\n",
    "    print('end of items')"
   ]
  },
  {
   "cell_type": "markdown",
   "metadata": {},
   "source": [
    "### combinations_with_replacement()\n",
    "by default selection of items in the group assumes they are used up.  The analogy my statistics professor used was that the original group was like a bag of items and you reached in and pulled one out.  By default combinations, and permutations, assume that you don't put the item back in the bag once you have chosen it for the current subgroup (e.g. repeated elements aren't allowed).  Adding 'with_replacement' means that the items go back in the bag after each selections o you can potentially have duplicates in your subgroup."
   ]
  },
  {
   "cell_type": "code",
   "execution_count": 69,
   "metadata": {},
   "outputs": [
    {
     "name": "stdout",
     "output_type": "stream",
     "text": [
      "[(1, 2), (1, 3), (1, 4), (1, 5), (1, 'Main St'), (2, 2), (2, 3), (2, 4), (2, 5), (2, 'Main St'), (3, 3), (3, 4), (3, 5), (3, 'Main St'), (4, 4), (4, 5), (4, 'Main St'), (5, 5), (5, 'Main St'), ('Main St', 'Main St')]\n"
     ]
    }
   ],
   "source": [
    "c = i.combinations_with_replacement(mylist,2)\n",
    "for x in c:\n",
    "    print(list(c))"
   ]
  },
  {
   "cell_type": "markdown",
   "metadata": {},
   "source": [
    "### compress"
   ]
  },
  {
   "cell_type": "code",
   "execution_count": 70,
   "metadata": {},
   "outputs": [],
   "source": [
    "i.compress?"
   ]
  },
  {
   "cell_type": "markdown",
   "metadata": {},
   "source": [
    " 'count'"
   ]
  },
  {
   "cell_type": "markdown",
   "metadata": {},
   "source": [
    " 'cycle'"
   ]
  },
  {
   "cell_type": "markdown",
   "metadata": {},
   "source": [
    " 'dropwhile'"
   ]
  },
  {
   "cell_type": "markdown",
   "metadata": {},
   "source": [
    " 'filterfalse'"
   ]
  },
  {
   "cell_type": "markdown",
   "metadata": {},
   "source": [
    " 'groupby'"
   ]
  },
  {
   "cell_type": "markdown",
   "metadata": {},
   "source": [
    " 'islice'"
   ]
  },
  {
   "cell_type": "markdown",
   "metadata": {},
   "source": [
    " 'permutations'"
   ]
  },
  {
   "cell_type": "markdown",
   "metadata": {},
   "source": [
    " 'product'"
   ]
  },
  {
   "cell_type": "markdown",
   "metadata": {},
   "source": [
    " 'repeat'"
   ]
  },
  {
   "cell_type": "markdown",
   "metadata": {},
   "source": [
    " 'starmap'"
   ]
  },
  {
   "cell_type": "markdown",
   "metadata": {},
   "source": [
    " 'takewhile'"
   ]
  },
  {
   "cell_type": "markdown",
   "metadata": {},
   "source": [
    "### tee(&lt;iterable&gt;)\n",
    "Creates 1 or more copies of your iterable so that you can alter them in different ways (or maintain the original).  By default it creates a single copy, which would be similar to list.copy() function for lists.  Tee is useful for making multiple copies with a single statement or copies of iterables that do not have their own copy method. Since tuples are not mutable they can be copied with assignment. I imagine this would also be useful in parallel processing so parallel loops could operate on the same iterable without losing their place. "
   ]
  },
  {
   "cell_type": "code",
   "execution_count": 27,
   "metadata": {},
   "outputs": [
    {
     "ename": "AttributeError",
     "evalue": "'tuple' object has no attribute 'copy'",
     "output_type": "error",
     "traceback": [
      "\u001b[1;31m---------------------------------------------------------------------------\u001b[0m",
      "\u001b[1;31mAttributeError\u001b[0m                            Traceback (most recent call last)",
      "\u001b[1;32m<ipython-input-27-7f0e1031ba51>\u001b[0m in \u001b[0;36m<module>\u001b[1;34m\u001b[0m\n\u001b[1;32m----> 1\u001b[1;33m \u001b[0mmytuple\u001b[0m\u001b[1;33m.\u001b[0m\u001b[0mcopy\u001b[0m\u001b[1;33m(\u001b[0m\u001b[1;33m)\u001b[0m\u001b[1;33m\u001b[0m\u001b[1;33m\u001b[0m\u001b[0m\n\u001b[0m",
      "\u001b[1;31mAttributeError\u001b[0m: 'tuple' object has no attribute 'copy'"
     ]
    }
   ],
   "source": [
    "mytuple.copy()"
   ]
  },
  {
   "cell_type": "code",
   "execution_count": 39,
   "metadata": {},
   "outputs": [
    {
     "data": {
      "text/plain": [
       "(('t1', 2, 't3'), (67, 21, 'tom'))"
      ]
     },
     "execution_count": 39,
     "metadata": {},
     "output_type": "execute_result"
    }
   ],
   "source": [
    "tview = mytuple\n",
    "tview = (67, 21, 'tom')\n",
    "mytuple, tview"
   ]
  },
  {
   "cell_type": "code",
   "execution_count": 43,
   "metadata": {},
   "outputs": [
    {
     "name": "stdout",
     "output_type": "stream",
     "text": [
      "t1\n",
      "2\n",
      "t3\n"
     ]
    }
   ],
   "source": [
    "tt = i.tee(mytuple,10)\n",
    "for x in tt[2]:\n",
    "    print(x)"
   ]
  },
  {
   "cell_type": "code",
   "execution_count": 19,
   "metadata": {},
   "outputs": [
    {
     "data": {
      "text/plain": [
       "(<itertools._tee at 0x289f636a600>, <itertools._tee at 0x289f636ae80>)"
      ]
     },
     "execution_count": 19,
     "metadata": {},
     "output_type": "execute_result"
    }
   ],
   "source": [
    "view = mylist\n",
    "c = mylist.copy()\n",
    "t = i.tee(mylist)\n",
    "t"
   ]
  },
  {
   "cell_type": "code",
   "execution_count": 20,
   "metadata": {},
   "outputs": [
    {
     "data": {
      "text/plain": [
       "(2791564551680, 2791564553856, 2791563425152, 2791564517248)"
      ]
     },
     "execution_count": 20,
     "metadata": {},
     "output_type": "execute_result"
    }
   ],
   "source": [
    "id(t[0]), id(t[1]), id(view), id(c)"
   ]
  },
  {
   "cell_type": "code",
   "execution_count": 21,
   "metadata": {},
   "outputs": [],
   "source": [
    "view[3] = 'three'"
   ]
  },
  {
   "cell_type": "code",
   "execution_count": 23,
   "metadata": {},
   "outputs": [
    {
     "data": {
      "text/plain": [
       "([1, 2, 3, 'three', 5, 'Main St'],\n",
       " [1, 2, 3, 'three', 5, 'Main St'],\n",
       " [1, 2, 3, 4, 5, 'Main St'])"
      ]
     },
     "execution_count": 23,
     "metadata": {},
     "output_type": "execute_result"
    }
   ],
   "source": [
    "view, mylist, c"
   ]
  },
  {
   "cell_type": "markdown",
   "metadata": {},
   "source": [
    "### 'zip_longest'"
   ]
  },
  {
   "cell_type": "markdown",
   "metadata": {},
   "source": [
    "## more-itertools"
   ]
  },
  {
   "cell_type": "code",
   "execution_count": 5,
   "metadata": {},
   "outputs": [],
   "source": [
    "import more_itertools as mi"
   ]
  },
  {
   "cell_type": "code",
   "execution_count": 6,
   "metadata": {},
   "outputs": [
    {
     "data": {
      "text/plain": [
       "['AbortThread',\n",
       " 'SequenceView',\n",
       " 'UnequalIterablesError',\n",
       " '__builtins__',\n",
       " '__cached__',\n",
       " '__doc__',\n",
       " '__file__',\n",
       " '__loader__',\n",
       " '__name__',\n",
       " '__package__',\n",
       " '__path__',\n",
       " '__spec__',\n",
       " '__version__',\n",
       " 'adjacent',\n",
       " 'all_equal',\n",
       " 'all_unique',\n",
       " 'always_iterable',\n",
       " 'always_reversible',\n",
       " 'bucket',\n",
       " 'callback_iter',\n",
       " 'chunked',\n",
       " 'chunked_even',\n",
       " 'circular_shifts',\n",
       " 'collapse',\n",
       " 'collate',\n",
       " 'combination_index',\n",
       " 'consecutive_groups',\n",
       " 'consume',\n",
       " 'consumer',\n",
       " 'convolve',\n",
       " 'count_cycle',\n",
       " 'countable',\n",
       " 'difference',\n",
       " 'distinct_combinations',\n",
       " 'distinct_permutations',\n",
       " 'distribute',\n",
       " 'divide',\n",
       " 'dotproduct',\n",
       " 'exactly_n',\n",
       " 'filter_except',\n",
       " 'first',\n",
       " 'first_true',\n",
       " 'flatten',\n",
       " 'groupby_transform',\n",
       " 'grouper',\n",
       " 'ichunked',\n",
       " 'ilen',\n",
       " 'interleave',\n",
       " 'interleave_evenly',\n",
       " 'interleave_longest',\n",
       " 'intersperse',\n",
       " 'is_sorted',\n",
       " 'islice_extended',\n",
       " 'iter_except',\n",
       " 'iterate',\n",
       " 'last',\n",
       " 'locate',\n",
       " 'lstrip',\n",
       " 'make_decorator',\n",
       " 'map_except',\n",
       " 'map_if',\n",
       " 'map_reduce',\n",
       " 'mark_ends',\n",
       " 'more',\n",
       " 'ncycles',\n",
       " 'nth',\n",
       " 'nth_combination',\n",
       " 'nth_or_last',\n",
       " 'nth_permutation',\n",
       " 'nth_product',\n",
       " 'numeric_range',\n",
       " 'one',\n",
       " 'only',\n",
       " 'pad_none',\n",
       " 'padded',\n",
       " 'padnone',\n",
       " 'pairwise',\n",
       " 'partition',\n",
       " 'partitions',\n",
       " 'peekable',\n",
       " 'permutation_index',\n",
       " 'powerset',\n",
       " 'prepend',\n",
       " 'product_index',\n",
       " 'quantify',\n",
       " 'random_combination',\n",
       " 'random_combination_with_replacement',\n",
       " 'random_permutation',\n",
       " 'random_product',\n",
       " 'recipes',\n",
       " 'repeat_each',\n",
       " 'repeat_last',\n",
       " 'repeatfunc',\n",
       " 'replace',\n",
       " 'rlocate',\n",
       " 'roundrobin',\n",
       " 'rstrip',\n",
       " 'run_length',\n",
       " 'sample',\n",
       " 'seekable',\n",
       " 'set_partitions',\n",
       " 'side_effect',\n",
       " 'sliced',\n",
       " 'sort_together',\n",
       " 'split_after',\n",
       " 'split_at',\n",
       " 'split_before',\n",
       " 'split_into',\n",
       " 'split_when',\n",
       " 'spy',\n",
       " 'stagger',\n",
       " 'strip',\n",
       " 'substrings',\n",
       " 'substrings_indexes',\n",
       " 'tabulate',\n",
       " 'tail',\n",
       " 'take',\n",
       " 'time_limited',\n",
       " 'unique_everseen',\n",
       " 'unique_justseen',\n",
       " 'unique_to_each',\n",
       " 'unzip',\n",
       " 'value_chain',\n",
       " 'windowed',\n",
       " 'windowed_complete',\n",
       " 'with_iter',\n",
       " 'zip_broadcast',\n",
       " 'zip_equal',\n",
       " 'zip_offset']"
      ]
     },
     "execution_count": 6,
     "metadata": {},
     "output_type": "execute_result"
    }
   ],
   "source": [
    "dir(mi)"
   ]
  },
  {
   "cell_type": "code",
   "execution_count": null,
   "metadata": {},
   "outputs": [],
   "source": []
  }
 ],
 "metadata": {
  "kernelspec": {
   "display_name": "Python 3",
   "language": "python",
   "name": "python3"
  },
  "language_info": {
   "codemirror_mode": {
    "name": "ipython",
    "version": 3
   },
   "file_extension": ".py",
   "mimetype": "text/x-python",
   "name": "python",
   "nbconvert_exporter": "python",
   "pygments_lexer": "ipython3",
   "version": "3.8.5"
  }
 },
 "nbformat": 4,
 "nbformat_minor": 4
}
